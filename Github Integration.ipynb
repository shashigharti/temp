{
 "cells": [
  {
   "cell_type": "code",
   "execution_count": 1,
   "id": "818049dc",
   "metadata": {},
   "outputs": [],
   "source": [
    "import os\n",
    "from frictionless import Package, portals, Catalog"
   ]
  },
  {
   "cell_type": "code",
   "execution_count": 2,
   "id": "655e3ce7",
   "metadata": {},
   "outputs": [],
   "source": [
    "\n",
    "from dotenv import load_dotenv\n",
    "load_dotenv()\n",
    "\n",
    "# OR, the same with increased verbosity\n",
    "load_dotenv(verbose=True)\n",
    "\n",
    "# OR, explicitly providing path to '.env'\n",
    "from pathlib import Path  # Python 3.6+ only\n",
    "env_path = Path('.') / '.env'\n",
    "load_dotenv(dotenv_path=env_path)\n",
    "\n",
    "apikey = os.environ.get('GITHUB_ACCESS_TOKEN')\n",
    "username = os.environ.get('GITHUB_NAME')\n",
    "email = os.environ.get('GITHUB_EMAIL')"
   ]
  },
  {
   "cell_type": "markdown",
   "id": "e3aafa4b",
   "metadata": {},
   "source": [
    "# Reading the data (with and without data package)"
   ]
  },
  {
   "cell_type": "code",
   "execution_count": 3,
   "id": "1dfe9492",
   "metadata": {},
   "outputs": [
    {
     "name": "stdout",
     "output_type": "stream",
     "text": [
      "{'name': 'test-repo-without-datapackage',\n",
      " 'resources': [{'name': 'capitals',\n",
      "                'type': 'table',\n",
      "                'path': 'https://raw.githubusercontent.com/fdtester/test-repo-without-datapackage/master/data/capitals.csv',\n",
      "                'scheme': 'https',\n",
      "                'format': 'csv',\n",
      "                'encoding': 'base64',\n",
      "                'mediatype': 'text/csv'},\n",
      "               {'name': 'countries',\n",
      "                'type': 'table',\n",
      "                'path': 'https://raw.githubusercontent.com/fdtester/test-repo-without-datapackage/master/data/countries.csv',\n",
      "                'scheme': 'https',\n",
      "                'format': 'csv',\n",
      "                'encoding': 'base64',\n",
      "                'mediatype': 'text/csv'},\n",
      "               {'name': 'student',\n",
      "                'type': 'table',\n",
      "                'path': 'https://raw.githubusercontent.com/fdtester/test-repo-without-datapackage/master/data/student.xlsx',\n",
      "                'scheme': 'https',\n",
      "                'format': 'xlsx',\n",
      "                'encoding': 'base64',\n",
      "                'mediatype': 'application/vnd.ms-excel'}]}\n"
     ]
    }
   ],
   "source": [
    "control = portals.GithubControl(apikey=apikey)\n",
    "package = Package.from_github(\"https://github.com/fdtester/test-repo-without-datapackage\", control=control)\n",
    "print(package)"
   ]
  },
  {
   "cell_type": "code",
   "execution_count": 8,
   "id": "02f40483",
   "metadata": {},
   "outputs": [
    {
     "name": "stdout",
     "output_type": "stream",
     "text": [
      "{'name': 'first-resource',\n",
      " 'path': 'table.xls',\n",
      " 'schema': {'fields': [{'name': 'id', 'type': 'number'},\n",
      "                       {'name': 'name', 'type': 'string'}]}}\n"
     ]
    }
   ],
   "source": [
    "print(package.resources[0])"
   ]
  },
  {
   "cell_type": "code",
   "execution_count": 9,
   "id": "25e0ac97",
   "metadata": {},
   "outputs": [
    {
     "name": "stdout",
     "output_type": "stream",
     "text": [
      "{'name': 'test-tabulator',\n",
      " 'resources': [{'name': 'first-resource',\n",
      "                'path': 'table.xls',\n",
      "                'schema': {'fields': [{'name': 'id', 'type': 'number'},\n",
      "                                      {'name': 'name', 'type': 'string'}]}},\n",
      "               {'name': 'number-two',\n",
      "                'path': 'table-reverse.csv',\n",
      "                'schema': {'fields': [{'name': 'id', 'type': 'integer'},\n",
      "                                      {'name': 'name', 'type': 'string'}]}}]}\n"
     ]
    }
   ],
   "source": [
    "control = portals.GithubControl(apikey=apikey)\n",
    "package = Package.from_github(\"https://github.com/fdtester/test-repo-with-datapackage-json\", control=control)\n",
    "print(package)"
   ]
  },
  {
   "cell_type": "markdown",
   "id": "b3a21226",
   "metadata": {},
   "source": [
    "# Creating catalog"
   ]
  },
  {
   "cell_type": "code",
   "execution_count": 10,
   "id": "bcb38069",
   "metadata": {},
   "outputs": [
    {
     "name": "stdout",
     "output_type": "stream",
     "text": [
      "Total packages 3\n",
      "[{'resources': [{'name': 'capitals',\n",
      "                'type': 'table',\n",
      "                'path': 'data/capitals.csv',\n",
      "                'scheme': 'file',\n",
      "                'format': 'csv',\n",
      "                'encoding': 'utf-8',\n",
      "                'mediatype': 'text/csv',\n",
      "                'dialect': {'csv': {'skipInitialSpace': True}},\n",
      "                'schema': {'fields': [{'name': 'id', 'type': 'integer'},\n",
      "                                      {'name': 'cid', 'type': 'integer'},\n",
      "                                      {'name': 'name', 'type': 'string'}]}}]},\n",
      " {'name': 'test-tabulator',\n",
      " 'resources': [{'name': 'first-resource',\n",
      "                'path': 'table.xls',\n",
      "                'schema': {'fields': [{'name': 'id', 'type': 'number'},\n",
      "                                      {'name': 'name', 'type': 'string'}]}},\n",
      "               {'name': 'number-two',\n",
      "                'path': 'table-reverse.csv',\n",
      "                'schema': {'fields': [{'name': 'id', 'type': 'integer'},\n",
      "                                      {'name': 'name', 'type': 'string'}]}}]},\n",
      " {'name': 'test-repo-without-datapackage',\n",
      " 'resources': [{'name': 'capitals',\n",
      "                'type': 'table',\n",
      "                'path': 'https://raw.githubusercontent.com/fdtester/test-repo-without-datapackage/master/data/capitals.csv',\n",
      "                'scheme': 'https',\n",
      "                'format': 'csv',\n",
      "                'encoding': 'base64',\n",
      "                'mediatype': 'text/csv'},\n",
      "               {'name': 'countries',\n",
      "                'type': 'table',\n",
      "                'path': 'https://raw.githubusercontent.com/fdtester/test-repo-without-datapackage/master/data/countries.csv',\n",
      "                'scheme': 'https',\n",
      "                'format': 'csv',\n",
      "                'encoding': 'base64',\n",
      "                'mediatype': 'text/csv'},\n",
      "               {'name': 'student',\n",
      "                'type': 'table',\n",
      "                'path': 'https://raw.githubusercontent.com/fdtester/test-repo-without-datapackage/master/data/student.xlsx',\n",
      "                'scheme': 'https',\n",
      "                'format': 'xlsx',\n",
      "                'encoding': 'base64',\n",
      "                'mediatype': 'application/vnd.ms-excel'}]}]\n"
     ]
    }
   ],
   "source": [
    "control = portals.GithubControl(search=\"'TestAction: Read' in:readme\", apikey=apikey)\n",
    "catalog = Catalog(\n",
    "        \"https://github.com/fdtester\", control=control\n",
    "    )\n",
    "print(\"Total packages\", len(catalog.packages))\n",
    "from pprint import pprint\n",
    "pprint(catalog.packages)"
   ]
  },
  {
   "cell_type": "markdown",
   "id": "62842f71",
   "metadata": {},
   "source": [
    "# Creating catalog - empty"
   ]
  },
  {
   "cell_type": "code",
   "execution_count": 11,
   "id": "3c135205",
   "metadata": {},
   "outputs": [
    {
     "ename": "FrictionlessException",
     "evalue": "[error] Package/s not found ",
     "output_type": "error",
     "traceback": [
      "\u001b[0;31m---------------------------------------------------------------------------\u001b[0m",
      "\u001b[0;31mFrictionlessException\u001b[0m                     Traceback (most recent call last)",
      "Input \u001b[0;32mIn [11]\u001b[0m, in \u001b[0;36m<cell line: 2>\u001b[0;34m()\u001b[0m\n\u001b[1;32m      1\u001b[0m control \u001b[38;5;241m=\u001b[39m portals\u001b[38;5;241m.\u001b[39mGithubControl(apikey\u001b[38;5;241m=\u001b[39mapikey)\n\u001b[0;32m----> 2\u001b[0m catalog \u001b[38;5;241m=\u001b[39m \u001b[43mCatalog\u001b[49m\u001b[43m(\u001b[49m\n\u001b[1;32m      3\u001b[0m \u001b[43m        \u001b[49m\u001b[38;5;124;43m\"\u001b[39;49m\u001b[38;5;124;43mhttps://github.com/fdtester/test-repo-empty\u001b[39;49m\u001b[38;5;124;43m\"\u001b[39;49m\u001b[43m,\u001b[49m\u001b[43m \u001b[49m\u001b[43mcontrol\u001b[49m\u001b[38;5;241;43m=\u001b[39;49m\u001b[43mcontrol\u001b[49m\n\u001b[1;32m      4\u001b[0m \u001b[43m    \u001b[49m\u001b[43m)\u001b[49m\n\u001b[1;32m      5\u001b[0m \u001b[38;5;28mprint\u001b[39m(\u001b[38;5;28mlen\u001b[39m(catalog\u001b[38;5;241m.\u001b[39mpackages))\n",
      "File \u001b[0;32m~/python/okfn/frictionless-py/frictionless/metadata.py:41\u001b[0m, in \u001b[0;36mMetaclass.__call__\u001b[0;34m(cls, *args, **kwargs)\u001b[0m\n\u001b[1;32m     39\u001b[0m obj \u001b[38;5;241m=\u001b[39m \u001b[38;5;28;01mNone\u001b[39;00m\n\u001b[1;32m     40\u001b[0m \u001b[38;5;28;01mif\u001b[39;00m \u001b[38;5;28mhasattr\u001b[39m(\u001b[38;5;28mcls\u001b[39m, \u001b[38;5;124m\"\u001b[39m\u001b[38;5;124m__create__\u001b[39m\u001b[38;5;124m\"\u001b[39m):\n\u001b[0;32m---> 41\u001b[0m     obj \u001b[38;5;241m=\u001b[39m \u001b[38;5;28;43mcls\u001b[39;49m\u001b[38;5;241;43m.\u001b[39;49m\u001b[43m__create__\u001b[49m\u001b[43m(\u001b[49m\u001b[38;5;241;43m*\u001b[39;49m\u001b[43margs\u001b[49m\u001b[43m,\u001b[49m\u001b[43m \u001b[49m\u001b[38;5;241;43m*\u001b[39;49m\u001b[38;5;241;43m*\u001b[39;49m\u001b[43mkwargs\u001b[49m\u001b[43m)\u001b[49m  \u001b[38;5;66;03m# type: ignore\u001b[39;00m\n\u001b[1;32m     42\u001b[0m \u001b[38;5;28;01mif\u001b[39;00m obj \u001b[38;5;241m==\u001b[39m \u001b[38;5;28;01mNone\u001b[39;00m:\n\u001b[1;32m     43\u001b[0m     obj \u001b[38;5;241m=\u001b[39m \u001b[38;5;28mtype\u001b[39m\u001b[38;5;241m.\u001b[39m\u001b[38;5;21m__call__\u001b[39m(\u001b[38;5;28mcls\u001b[39m, \u001b[38;5;241m*\u001b[39margs, \u001b[38;5;241m*\u001b[39m\u001b[38;5;241m*\u001b[39mkwargs)\n",
      "File \u001b[0;32m~/python/okfn/frictionless-py/frictionless/catalog/catalog.py:59\u001b[0m, in \u001b[0;36mCatalog.__create__\u001b[0;34m(cls, source, control, **options)\u001b[0m\n\u001b[1;32m     57\u001b[0m manager \u001b[38;5;241m=\u001b[39m system\u001b[38;5;241m.\u001b[39mcreate_manager(source, control\u001b[38;5;241m=\u001b[39mcontrol)\n\u001b[1;32m     58\u001b[0m \u001b[38;5;28;01mif\u001b[39;00m manager:\n\u001b[0;32m---> 59\u001b[0m     catalog \u001b[38;5;241m=\u001b[39m \u001b[43mmanager\u001b[49m\u001b[38;5;241;43m.\u001b[39;49m\u001b[43mread_catalog\u001b[49m\u001b[43m(\u001b[49m\u001b[43m)\u001b[49m\n\u001b[1;32m     60\u001b[0m     \u001b[38;5;28;01mreturn\u001b[39;00m catalog\n\u001b[1;32m     62\u001b[0m \u001b[38;5;66;03m# Descriptor\u001b[39;00m\n",
      "File \u001b[0;32m~/python/okfn/frictionless-py/frictionless/portals/github/manager.py:47\u001b[0m, in \u001b[0;36mGithubManager.read_catalog\u001b[0;34m(self)\u001b[0m\n\u001b[1;32m     45\u001b[0m         \u001b[38;5;28;01mreturn\u001b[39;00m Catalog(name\u001b[38;5;241m=\u001b[39m\u001b[38;5;124m\"\u001b[39m\u001b[38;5;124mcatalog\u001b[39m\u001b[38;5;124m\"\u001b[39m, packages\u001b[38;5;241m=\u001b[39m[package])\n\u001b[1;32m     46\u001b[0m     note \u001b[38;5;241m=\u001b[39m \u001b[38;5;124m\"\u001b[39m\u001b[38;5;124mPackage/s not found\u001b[39m\u001b[38;5;124m\"\u001b[39m\n\u001b[0;32m---> 47\u001b[0m     \u001b[38;5;28;01mraise\u001b[39;00m FrictionlessException(note)\n\u001b[1;32m     49\u001b[0m \u001b[38;5;66;03m# Search multiple repos\u001b[39;00m\n\u001b[1;32m     50\u001b[0m options \u001b[38;5;241m=\u001b[39m {}\n",
      "\u001b[0;31mFrictionlessException\u001b[0m: [error] Package/s not found "
     ]
    }
   ],
   "source": [
    "control = portals.GithubControl(apikey=apikey)\n",
    "catalog = Catalog(\n",
    "        \"https://github.com/fdtester/test-repo-empty\", control=control\n",
    "    )\n",
    "print(len(catalog.packages))"
   ]
  },
  {
   "cell_type": "markdown",
   "id": "cad8096d",
   "metadata": {},
   "source": [
    "# Catalog - Search Qualifiers and Params"
   ]
  },
  {
   "cell_type": "code",
   "execution_count": 13,
   "id": "77bd4b5f",
   "metadata": {},
   "outputs": [
    {
     "name": "stdout",
     "output_type": "stream",
     "text": [
      "[{'name': 'test-repo-jquery',\n",
      " 'resources': [{'name': 'country-1',\n",
      "                'type': 'table',\n",
      "                'path': 'https://raw.githubusercontent.com/fdtester/test-repo-jquery/main/country-1.csv',\n",
      "                'scheme': 'https',\n",
      "                'format': 'csv',\n",
      "                'encoding': 'base64',\n",
      "                'mediatype': 'text/csv'}]}]\n"
     ]
    }
   ],
   "source": [
    "control = portals.GithubControl(apikey=apikey, search=\"user:fdtester jquery in:name\")\n",
    "catalog = Catalog(control=control)\n",
    "print(catalog.packages)"
   ]
  },
  {
   "cell_type": "code",
   "execution_count": 19,
   "id": "d159af7f",
   "metadata": {},
   "outputs": [
    {
     "name": "stdout",
     "output_type": "stream",
     "text": [
      "package:0 \n",
      "\n",
      "{'name': 'test-repo-without-datapackage',\n",
      " 'resources': [{'name': 'capitals',\n",
      "                'type': 'table',\n",
      "                'path': 'https://raw.githubusercontent.com/fdtester/test-repo-without-datapackage/master/data/capitals.csv',\n",
      "                'scheme': 'https',\n",
      "                'format': 'csv',\n",
      "                'encoding': 'base64',\n",
      "                'mediatype': 'text/csv'},\n",
      "               {'name': 'countries',\n",
      "                'type': 'table',\n",
      "                'path': 'https://raw.githubusercontent.com/fdtester/test-repo-without-datapackage/master/data/countries.csv',\n",
      "                'scheme': 'https',\n",
      "                'format': 'csv',\n",
      "                'encoding': 'base64',\n",
      "                'mediatype': 'text/csv'},\n",
      "               {'name': 'student',\n",
      "                'type': 'table',\n",
      "                'path': 'https://raw.githubusercontent.com/fdtester/test-repo-without-datapackage/master/data/student.xlsx',\n",
      "                'scheme': 'https',\n",
      "                'format': 'xlsx',\n",
      "                'encoding': 'base64',\n",
      "                'mediatype': 'application/vnd.ms-excel'}]}\n",
      "package:1 \n",
      "\n",
      "{'name': 'test-repo-jquery',\n",
      " 'resources': [{'name': 'country-1',\n",
      "                'type': 'table',\n",
      "                'path': 'https://raw.githubusercontent.com/fdtester/test-repo-jquery/main/country-1.csv',\n",
      "                'scheme': 'https',\n",
      "                'format': 'csv',\n",
      "                'encoding': 'base64',\n",
      "                'mediatype': 'text/csv'}]}\n",
      "package:2 \n",
      "\n",
      "{'resources': [{'name': 'capitals',\n",
      "                'type': 'table',\n",
      "                'path': 'data/capitals.csv',\n",
      "                'scheme': 'file',\n",
      "                'format': 'csv',\n",
      "                'encoding': 'utf-8',\n",
      "                'mediatype': 'text/csv',\n",
      "                'dialect': {'csv': {'skipInitialSpace': True}},\n",
      "                'schema': {'fields': [{'name': 'id', 'type': 'integer'},\n",
      "                                      {'name': 'cid', 'type': 'integer'},\n",
      "                                      {'name': 'name', 'type': 'string'}]}}]}\n",
      "package:3 \n",
      "\n",
      "{'name': 'test-tabulator',\n",
      " 'resources': [{'name': 'first-resource',\n",
      "                'path': 'table.xls',\n",
      "                'schema': {'fields': [{'name': 'id', 'type': 'number'},\n",
      "                                      {'name': 'name', 'type': 'string'}]}},\n",
      "               {'name': 'number-two',\n",
      "                'path': 'table-reverse.csv',\n",
      "                'schema': {'fields': [{'name': 'id', 'type': 'integer'},\n",
      "                                      {'name': 'name', 'type': 'string'}]}}]}\n"
     ]
    }
   ],
   "source": [
    "control = portals.GithubControl(apikey=apikey, search=\"user:fdtester sort:updated-desc 'TestAction: Read' in:readme\")\n",
    "catalog = Catalog(control=control)\n",
    "for index,package in enumerate(catalog.packages):\n",
    "    print(f\"package:{index}\", \"\\n\")\n",
    "    print(package)"
   ]
  },
  {
   "cell_type": "markdown",
   "id": "99ed78a3",
   "metadata": {},
   "source": [
    "# Writing to github repo"
   ]
  },
  {
   "cell_type": "code",
   "execution_count": 20,
   "id": "f5f46898",
   "metadata": {},
   "outputs": [
    {
     "name": "stdout",
     "output_type": "stream",
     "text": [
      "Repository(full_name=\"fdtester/test-new-repo-doc\")\n"
     ]
    }
   ],
   "source": [
    "package = Package('1174/datapackage.json')\n",
    "control = portals.GithubControl(repo=\"test-new-repo-doc\", email=email, apikey=apikey)\n",
    "response = Package.to_github(package, control=control)\n",
    "print(response)"
   ]
  },
  {
   "cell_type": "markdown",
   "id": "30e18abd",
   "metadata": {},
   "source": [
    "# Controls"
   ]
  },
  {
   "cell_type": "code",
   "execution_count": 26,
   "id": "3bcbec70",
   "metadata": {},
   "outputs": [
    {
     "name": "stdout",
     "output_type": "stream",
     "text": [
      "{'name': 'test-repo-without-datapackage',\n",
      " 'resources': [{'name': 'capitals',\n",
      "                'type': 'table',\n",
      "                'path': 'https://raw.githubusercontent.com/fdtester/test-repo-without-datapackage/master/data/capitals.csv',\n",
      "                'scheme': 'https',\n",
      "                'format': 'csv',\n",
      "                'encoding': 'base64',\n",
      "                'mediatype': 'text/csv'},\n",
      "               {'name': 'countries',\n",
      "                'type': 'table',\n",
      "                'path': 'https://raw.githubusercontent.com/fdtester/test-repo-without-datapackage/master/data/countries.csv',\n",
      "                'scheme': 'https',\n",
      "                'format': 'csv',\n",
      "                'encoding': 'base64',\n",
      "                'mediatype': 'text/csv'},\n",
      "               {'name': 'student',\n",
      "                'type': 'table',\n",
      "                'path': 'https://raw.githubusercontent.com/fdtester/test-repo-without-datapackage/master/data/student.xlsx',\n",
      "                'scheme': 'https',\n",
      "                'format': 'xlsx',\n",
      "                'encoding': 'base64',\n",
      "                'mediatype': 'application/vnd.ms-excel'}]}\n"
     ]
    }
   ],
   "source": [
    "control = portals.GithubControl(apikey=apikey)\n",
    "package = Package(\"https://github.com/fdtester/test-repo-without-datapackage\", control=control)\n",
    "print(package)"
   ]
  },
  {
   "cell_type": "code",
   "execution_count": 27,
   "id": "792c03ae",
   "metadata": {},
   "outputs": [
    {
     "name": "stdout",
     "output_type": "stream",
     "text": [
      "{'name': 'test-repo-without-datapackage',\n",
      " 'resources': [{'name': 'capitals',\n",
      "                'type': 'table',\n",
      "                'path': 'https://raw.githubusercontent.com/fdtester/test-repo-without-datapackage/master/data/capitals.csv',\n",
      "                'scheme': 'https',\n",
      "                'format': 'csv',\n",
      "                'encoding': 'base64',\n",
      "                'mediatype': 'text/csv'},\n",
      "               {'name': 'countries',\n",
      "                'type': 'table',\n",
      "                'path': 'https://raw.githubusercontent.com/fdtester/test-repo-without-datapackage/master/data/countries.csv',\n",
      "                'scheme': 'https',\n",
      "                'format': 'csv',\n",
      "                'encoding': 'base64',\n",
      "                'mediatype': 'text/csv'},\n",
      "               {'name': 'student',\n",
      "                'type': 'table',\n",
      "                'path': 'https://raw.githubusercontent.com/fdtester/test-repo-without-datapackage/master/data/student.xlsx',\n",
      "                'scheme': 'https',\n",
      "                'format': 'xlsx',\n",
      "                'encoding': 'base64',\n",
      "                'mediatype': 'application/vnd.ms-excel'}]}\n"
     ]
    }
   ],
   "source": [
    "control = portals.GithubControl(user=\"fdtester\", repo=\"test-repo-without-datapackage\", apikey=apikey)\n",
    "package = Package(control=control)\n",
    "print(package)"
   ]
  },
  {
   "cell_type": "code",
   "execution_count": 28,
   "id": "397ac9b1",
   "metadata": {},
   "outputs": [
    {
     "name": "stdout",
     "output_type": "stream",
     "text": [
      "{'name': 'test-repo-without-datapackage',\n",
      " 'resources': [{'name': 'capitals',\n",
      "                'type': 'table',\n",
      "                'path': 'https://raw.githubusercontent.com/fdtester/test-repo-without-datapackage/master/data/capitals.csv',\n",
      "                'scheme': 'https',\n",
      "                'format': 'csv',\n",
      "                'encoding': 'base64',\n",
      "                'mediatype': 'text/csv'},\n",
      "               {'name': 'countries',\n",
      "                'type': 'table',\n",
      "                'path': 'https://raw.githubusercontent.com/fdtester/test-repo-without-datapackage/master/data/countries.csv',\n",
      "                'scheme': 'https',\n",
      "                'format': 'csv',\n",
      "                'encoding': 'base64',\n",
      "                'mediatype': 'text/csv'}]}\n"
     ]
    }
   ],
   "source": [
    "control = portals.GithubControl(user=\"fdtester\", formats=[\"csv\"], repo=\"test-repo-without-datapackage\", apikey=apikey)\n",
    "package = Package(control=control)\n",
    "print(package)"
   ]
  }
 ],
 "metadata": {
  "kernelspec": {
   "display_name": "Python 3 (ipykernel)",
   "language": "python",
   "name": "python3"
  },
  "language_info": {
   "codemirror_mode": {
    "name": "ipython",
    "version": 3
   },
   "file_extension": ".py",
   "mimetype": "text/x-python",
   "name": "python",
   "nbconvert_exporter": "python",
   "pygments_lexer": "ipython3",
   "version": "3.8.13"
  }
 },
 "nbformat": 4,
 "nbformat_minor": 5
}
